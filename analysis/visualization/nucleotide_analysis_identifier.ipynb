{
 "cells": [
  {
   "cell_type": "code",
   "execution_count": 1,
   "metadata": {},
   "outputs": [],
   "source": [
    "import os\n",
    "import pandas as pd\n",
    "import numpy as np\n",
    "import matplotlib.pyplot as plt\n",
    "import seaborn as sns\n",
    "from sklearn.feature_extraction.text import CountVectorizer\n",
    "\n",
    "from matplotlib.backends.backend_pdf import PdfPages"
   ]
  },
  {
   "cell_type": "code",
   "execution_count": 2,
   "metadata": {},
   "outputs": [],
   "source": [
    "def read_fasta(file_path):\n",
    "    \"\"\"\n",
    "    Reads a FASTA-like file and returns a dictionary with sequence names as keys\n",
    "    and sequences as values.\n",
    "    \"\"\"\n",
    "    sequences = {}\n",
    "    with open(file_path, 'r') as file:\n",
    "        lines = file.readlines()\n",
    "        for i in range(0, len(lines), 2):\n",
    "            name = lines[i].strip()  # Sequence name\n",
    "            sequence = lines[i + 1].strip()  # DNA sequence\n",
    "            sequences[name] = sequence\n",
    "    return sequences"
   ]
  },
  {
   "cell_type": "code",
   "execution_count": 3,
   "metadata": {},
   "outputs": [],
   "source": [
    "def calculate_nucleotide_composition(sequence):\n",
    "    \"\"\"\n",
    "    Calculates the nucleotide composition of a given DNA sequence.\n",
    "    Returns a dictionary with counts of A, T, C, G.\n",
    "    \"\"\"\n",
    "    composition = {\n",
    "        'A': sequence.upper().count('A'),\n",
    "        'T': sequence.upper().count('T'),\n",
    "        'C': sequence.upper().count('C'),\n",
    "        'G': sequence.upper().count('G')\n",
    "    }\n",
    "    return composition"
   ]
  },
  {
   "cell_type": "code",
   "execution_count": null,
   "metadata": {},
   "outputs": [],
   "source": [
    "# Get the current working directory (where the notebook is running)\n",
    "notebook_dir = os.getcwd()\n",
    "\n",
    "# Construct the path to the data directory relative to the notebook\n",
    "data_path = os.path.abspath(os.path.join(notebook_dir, \"..\", \"..\", \"data\", \"enhancer_identification\"))\n",
    "\n",
    "# Check if the data directory exists\n",
    "if not os.path.isdir(data_path):\n",
    "    raise FileNotFoundError(f\"Data directory not found: {data_path}\")\n",
    "\n",
    "enhancer_file = os.path.join(data_path, \"enhancer_1484_train.txt\")\n",
    "non_enhancer_file = os.path.join(data_path, \"non_enhancer_1484_train.txt\")\n",
    "\n",
    "# Read sequences from files\n",
    "enhancer_sequences = read_fasta(enhancer_file)\n",
    "non_enhancer_sequences = read_fasta(non_enhancer_file)\n",
    "\n",
    "# # Calculate nucleotide compositions for enhancer sequences\n",
    "# print(\"Enhancer Sequences Nucleotide Composition:\")\n",
    "# for name, sequence in enhancer_sequences.items():\n",
    "#     composition = calculate_nucleotide_composition(sequence)\n",
    "#     print(f\"{name}: {composition}\")\n",
    "\n",
    "# # Calculate nucleotide compositions for non-enhancer sequences\n",
    "# print(\"\\nNon-Enhancer Sequences Nucleotide Composition:\")\n",
    "# for name, sequence in non_enhancer_sequences.items():\n",
    "#     composition = calculate_nucleotide_composition(sequence)\n",
    "#     print(f\"{name}: {composition}\")"
   ]
  },
  {
   "cell_type": "code",
   "execution_count": 5,
   "metadata": {},
   "outputs": [],
   "source": [
    "def calculate_nucleotide_frequencies(sequence_dict):\n",
    "    \"\"\"\n",
    "    Calculates nucleotide frequencies for a dictionary of DNA sequences.\n",
    "    \n",
    "    Args:\n",
    "        sequence_dict (dict): Dictionary with sequence names as keys and sequences as values.\n",
    "    \n",
    "    Returns:\n",
    "        dict: Dictionary with nucleotide frequencies (A, T, C, G).\n",
    "    \"\"\"\n",
    "    total_counts = {'A': 0, 'T': 0, 'C': 0, 'G': 0}\n",
    "    total_bases = 0\n",
    "    \n",
    "    for sequence in sequence_dict.values():\n",
    "        composition = calculate_nucleotide_composition(sequence)\n",
    "        for nucleotide, count in composition.items():\n",
    "            total_counts[nucleotide] += count\n",
    "        total_bases += len(sequence)\n",
    "    \n",
    "    # Calculate frequencies\n",
    "    frequencies = {nucleotide: count / total_bases for nucleotide, count in total_counts.items()}\n",
    "    return frequencies"
   ]
  },
  {
   "cell_type": "code",
   "execution_count": 6,
   "metadata": {},
   "outputs": [
    {
     "data": {
      "image/png": "[encoded data removed]",
      "text/plain": [
       "<Figure size 600x400 with 1 Axes>"
      ]
     },
     "metadata": {},
     "output_type": "display_data"
    }
   ],
   "source": [
    "def plot_grouped_bar_chart(data, title):\n",
    "    \"\"\"\n",
    "    Plots a grouped bar chart comparing nucleotide compositions across categories.\n",
    "    \n",
    "    Args:\n",
    "        data (pd.DataFrame): DataFrame with columns ['Category', 'Nucleotide', 'Frequency'].\n",
    "        title (str): Title of the plot.\n",
    "    \"\"\"\n",
    "    plt.figure(figsize=(6, 4))\n",
    "    sns.barplot(data=data, x='Nucleotide', y='Frequency', hue='Category')\n",
    "    # plt.title(title)\n",
    "    plt.xlabel('Nucleotide Composition')\n",
    "    plt.ylabel('Frequency')\n",
    "    plt.legend()  \n",
    "    plt.ylim(0, 0.32)\n",
    "    plt.tight_layout()\n",
    "\n",
    "    with PdfPages('nucleotide_identification_composition.pdf') as pdf:\n",
    "        pdf.savefig()\n",
    "    plt.show()\n",
    "\n",
    "# Calculate nucleotide frequencies for enhancer and non-enhancer sequences\n",
    "enhancer_frequencies = calculate_nucleotide_frequencies(enhancer_sequences)\n",
    "non_enhancer_frequencies = calculate_nucleotide_frequencies(non_enhancer_sequences)\n",
    "\n",
    "# Prepare data for plotting\n",
    "data = []\n",
    "for category, freq_dict in zip(['Enhancer', 'Non-Enhancer'], [enhancer_frequencies, non_enhancer_frequencies]):\n",
    "    for nucleotide, frequency in freq_dict.items():\n",
    "        data.append({'Category': category, 'Nucleotide': nucleotide, 'Frequency': frequency})\n",
    "\n",
    "# Convert to DataFrame\n",
    "df = pd.DataFrame(data)\n",
    "\n",
    "# Plot grouped bar chart\n",
    "plot_grouped_bar_chart(df, \"Nucleotide Composition: Enhancers vs Non-Enhancers\")"
   ]
  },
  {
   "cell_type": "code",
   "execution_count": 7,
   "metadata": {},
   "outputs": [
    {
     "name": "stdout",
     "output_type": "stream",
     "text": [
      "+--------------+--------+-------+--------+--------+\n",
      "| Category     |      A |     C |      G |      T |\n",
      "+==============+========+=======+========+========+\n",
      "| Enhancer     | 0.2571 | 0.246 | 0.2447 | 0.2523 |\n",
      "+--------------+--------+-------+--------+--------+\n",
      "| Non-Enhancer | 0.3115 | 0.188 | 0.1865 | 0.3139 |\n",
      "+--------------+--------+-------+--------+--------+\n"
     ]
    }
   ],
   "source": [
    "from tabulate import tabulate\n",
    "\n",
    "# Calculate nucleotide frequencies for enhancer and non-enhancer sequences\n",
    "enhancer_frequencies = calculate_nucleotide_frequencies(enhancer_sequences)\n",
    "non_enhancer_frequencies = calculate_nucleotide_frequencies(non_enhancer_sequences)\n",
    "\n",
    "# Prepare data for plotting\n",
    "data = []\n",
    "for category, freq_dict in zip(['Enhancers', 'Non-enhancers'], [enhancer_frequencies, non_enhancer_frequencies]):\n",
    "    for nucleotide, frequency in freq_dict.items():\n",
    "        data.append({'Category': category, 'Nucleotide': nucleotide, 'Frequency': frequency})\n",
    "\n",
    "\n",
    "# Pivot the DataFrame\n",
    "pivot_df = df.pivot(index='Category', columns='Nucleotide', values='Frequency')\n",
    "pivot_df = pivot_df.applymap(lambda x: f\"{x:.4f}\")\n",
    "\n",
    "print(tabulate(pivot_df, headers='keys', tablefmt='grid'))"
   ]
  }
 ],
 "metadata": {
  "kernelspec": {
   "display_name": "venv",
   "language": "python",
   "name": "python3"
  },
  "language_info": {
   "codemirror_mode": {
    "name": "ipython",
    "version": 3
   },
   "file_extension": ".py",
   "mimetype": "text/x-python",
   "name": "python",
   "nbconvert_exporter": "python",
   "pygments_lexer": "ipython3",
   "version": "3.9.13"
  }
 },
 "nbformat": 4,
 "nbformat_minor": 2
}
